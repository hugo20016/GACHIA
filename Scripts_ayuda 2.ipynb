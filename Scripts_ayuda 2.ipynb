{
 "cells": [
  {
   "attachments": {},
   "cell_type": "markdown",
   "metadata": {},
   "source": [
    "### Conexión a la BBDD"
   ]
  },
  {
   "cell_type": "code",
   "execution_count": null,
   "metadata": {},
   "outputs": [],
   "source": [
    "# ==== Copiar y pegar en el archivo de la BBDD ====\n",
    "\n",
    "import mysql.connector\n",
    "\n",
    "mydb = mysql.connector.connect(\n",
    "        host=\"gachia-db.cqhzxnm4nr1w.eu-west-1.rds.amazonaws.com\",\n",
    "        username=\"admin\",\n",
    "        password=\"gachiaproyecto23\",\n",
    "        database=\"gachia-db\",\n",
    "        port=\"3306\"\n",
    "    )\n",
    "\t\n",
    "mycursor = mydb.cursor()\n",
    "\n",
    "# ==== \n",
    "\n",
    "sql = \"INSERT INTO recordatorios (recordatorio, fecha, hora) VALUES (%s, %s, %s)\"\n",
    "val = (recordatorio_nuevo.recordatorio, recordatorio_nuevo.fecha, recordatorio_nuevo.hora)\n",
    "mycursor.execute(sql, val)\n",
    "\n",
    "mydb.commit()"
   ]
  },
  {
   "attachments": {},
   "cell_type": "markdown",
   "metadata": {},
   "source": [
    "### Llamada a una API"
   ]
  },
  {
   "cell_type": "code",
   "execution_count": null,
   "metadata": {},
   "outputs": [],
   "source": [
    "import requests\n",
    "import json\n",
    "\n",
    "def enviar_pedido(order_id, status):\n",
    "    url = 'http://localhost:5000/nuevo_pedido' # Reemplaza esta URL con la dirección de tu API\n",
    "\n",
    "    # Define el cuerpo de la petición como un diccionario\n",
    "    body = {\n",
    "        'Order_ID': order_id,\n",
    "        'Status': status\n",
    "    }\n",
    "\n",
    "    # Convierte el diccionario a un objeto JSON\n",
    "    json_body = json.dumps(body)\n",
    "\n",
    "    # Define los encabezados de la petición\n",
    "    headers = {\n",
    "        'Content-Type': 'application/json'\n",
    "    }\n",
    "\n",
    "    # Realiza la petición POST a la URL especificada con los datos y encabezados definidos\n",
    "    response = requests.post(url, headers=headers, data=json_body)\n",
    "\n",
    "    # Imprime la respuesta de la API\n",
    "    print(response.text)\n",
    "\n",
    "enviar_pedido(\"123\", \"Enviado\")"
   ]
  },
  {
   "cell_type": "code",
   "execution_count": null,
   "metadata": {},
   "outputs": [],
   "source": []
  }
 ],
 "metadata": {
  "language_info": {
   "name": "python"
  },
  "orig_nbformat": 4
 },
 "nbformat": 4,
 "nbformat_minor": 2
}
