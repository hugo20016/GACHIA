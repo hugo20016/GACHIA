{
 "cells": [
  {
   "attachments": {},
   "cell_type": "markdown",
   "metadata": {},
   "source": [
    "# Pruebas"
   ]
  },
  {
   "cell_type": "code",
   "execution_count": 2,
   "metadata": {},
   "outputs": [
    {
     "name": "stdout",
     "output_type": "stream",
     "text": [
      "Datos recibidos\n"
     ]
    }
   ],
   "source": [
    "import requests\n",
    "import json\n",
    "\n",
    "def enviar_pedido(order_id, status):\n",
    "    url = 'http://localhost:5000/nuevo_pedido' # Reemplaza esta URL con la dirección de tu API\n",
    "\n",
    "    # Define el cuerpo de la petición como un diccionario\n",
    "    body = {\n",
    "        'Order_ID': order_id,\n",
    "        'Status': status\n",
    "    }\n",
    "\n",
    "    # Convierte el diccionario a un objeto JSON\n",
    "    json_body = json.dumps(body)\n",
    "\n",
    "    # Define los encabezados de la petición\n",
    "    headers = {\n",
    "        'Content-Type': 'application/json'\n",
    "    }\n",
    "\n",
    "    # Realiza la petición POST a la URL especificada con los datos y encabezados definidos\n",
    "    response = requests.post(url, headers=headers, data=json_body)\n",
    "\n",
    "    # Imprime la respuesta de la API\n",
    "    print(response.text)\n",
    "\n",
    "enviar_pedido(\"123\", \"Enviado\")\n"
   ]
  },
  {
   "cell_type": "code",
   "execution_count": null,
   "metadata": {},
   "outputs": [],
   "source": []
  }
 ],
 "metadata": {
  "kernelspec": {
   "display_name": "base",
   "language": "python",
   "name": "python3"
  },
  "language_info": {
   "codemirror_mode": {
    "name": "ipython",
    "version": 3
   },
   "file_extension": ".py",
   "mimetype": "text/x-python",
   "name": "python",
   "nbconvert_exporter": "python",
   "pygments_lexer": "ipython3",
   "version": "3.9.12"
  },
  "orig_nbformat": 4
 },
 "nbformat": 4,
 "nbformat_minor": 2
}
